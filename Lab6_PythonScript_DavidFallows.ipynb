{
 "cells": [
  {
   "cell_type": "code",
   "execution_count": 1,
   "id": "f7997fff",
   "metadata": {},
   "outputs": [
    {
     "ename": "ModuleNotFoundError",
     "evalue": "No module named 'github'",
     "output_type": "error",
     "traceback": [
      "\u001b[1;31m---------------------------------------------------------------------------\u001b[0m",
      "\u001b[1;31mModuleNotFoundError\u001b[0m                       Traceback (most recent call last)",
      "Input \u001b[1;32mIn [1]\u001b[0m, in \u001b[0;36m<cell line: 1>\u001b[1;34m()\u001b[0m\n\u001b[1;32m----> 1\u001b[0m \u001b[38;5;28;01mfrom\u001b[39;00m \u001b[38;5;21;01mgithub\u001b[39;00m \u001b[38;5;28;01mimport\u001b[39;00m Github\n\u001b[0;32m      2\u001b[0m \u001b[38;5;28;01mimport\u001b[39;00m \u001b[38;5;21;01myaml\u001b[39;00m\n\u001b[0;32m      4\u001b[0m \u001b[38;5;66;03m# credentials.yml contains your usr/repo and PAT created in step 11 above\u001b[39;00m\n\u001b[0;32m      5\u001b[0m \u001b[38;5;66;03m# So we load the data into a YML object\u001b[39;00m\n",
      "\u001b[1;31mModuleNotFoundError\u001b[0m: No module named 'github'"
     ]
    }
   ],
   "source": [
    "from github import Github\n",
    "import yaml\n",
    "\n",
    "# credentials.yml contains your usr/repo and PAT created in step 11 above\n",
    "# So we load the data into a YML object\n",
    "data = yaml.safe_load(open('username-credentials.yml'))\n",
    "\n",
    "# Extract the user and token from the data object\n",
    "# 0. Complete these 2 lines below\n",
    "user = data['creds']['username']\n",
    "token = data['creds']['token']\n",
    "\n",
    "# using an access token\n",
    "g = Github(token)\n",
    "repo = g.get_repo(user)\n",
    "\n",
    "# Complete your tasks from here\n",
    "\n",
    "# 1. Get all branches you have created for your public repo\n",
    "branches = list(repo.get_branches())\n",
    "print(branches)\n",
    "\n",
    "# 2. Get all pull requests you have created\n",
    "pulls = repo.get_pulls(state='close', sort='created', base='main')\n",
    "\n",
    "for pr in pulls:\n",
    "    print(pr)\n",
    "\n",
    "# 3. Get a list of commits you have created in your `main` branch\n",
    "commit = repo.get_commits(\"main\")\n",
    "print(list(commit))\n",
    "\n"
   ]
  },
  {
   "cell_type": "code",
   "execution_count": null,
   "id": "1989f2aa",
   "metadata": {},
   "outputs": [],
   "source": []
  }
 ],
 "metadata": {
  "kernelspec": {
   "display_name": "Python 3 (ipykernel)",
   "language": "python",
   "name": "python3"
  },
  "language_info": {
   "codemirror_mode": {
    "name": "ipython",
    "version": 3
   },
   "file_extension": ".py",
   "mimetype": "text/x-python",
   "name": "python",
   "nbconvert_exporter": "python",
   "pygments_lexer": "ipython3",
   "version": "3.9.12"
  }
 },
 "nbformat": 4,
 "nbformat_minor": 5
}
